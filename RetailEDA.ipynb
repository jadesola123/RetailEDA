{
  "nbformat": 4,
  "nbformat_minor": 0,
  "metadata": {
    "colab": {
      "name": "RetailEDA.ipynb",
      "provenance": [],
      "authorship_tag": "ABX9TyMtpEArwfGx8MJkf6d/DI3j",
      "include_colab_link": true
    },
    "kernelspec": {
      "name": "python3",
      "display_name": "Python 3"
    },
    "language_info": {
      "name": "python"
    }
  },
  "cells": [
    {
      "cell_type": "markdown",
      "metadata": {
        "id": "view-in-github",
        "colab_type": "text"
      },
      "source": [
        "<a href=\"https://colab.research.google.com/github/jadesola123/RetailEDA/blob/main/RetailEDA.ipynb\" target=\"_parent\"><img src=\"https://colab.research.google.com/assets/colab-badge.svg\" alt=\"Open In Colab\"/></a>"
      ]
    },
    {
      "cell_type": "code",
      "execution_count": 13,
      "metadata": {
        "id": "YyyV153sygzO"
      },
      "outputs": [],
      "source": [
        "#importing libraries\n",
        "import numpy as np \n",
        "import pandas as pd\n",
        "import matplotlib.pyplot as plt"
      ]
    },
    {
      "cell_type": "code",
      "source": [
        "#reading the csv file\n",
        "url=\"https://raw.githubusercontent.com/jadesola123/RetailEDA/main/SampleSuperstore%20(1).csv\"\n",
        "Superstore= pd.read_csv(url)\n",
        "#understanding the dataset\n",
        "print(Superstore.head())\n",
        "print(Superstore.shape)\n",
        "print(Superstore.describe())\n",
        "Superstore.isna().sum() #no missing values"
      ],
      "metadata": {
        "colab": {
          "base_uri": "https://localhost:8080/"
        },
        "id": "HNZf-Yxn2ZQr",
        "outputId": "2b2a650f-c117-4e9f-8f75-7ada9be919f1"
      },
      "execution_count": 19,
      "outputs": [
        {
          "output_type": "stream",
          "name": "stdout",
          "text": [
            "        Ship Mode    Segment        Country             City       State  \\\n",
            "0    Second Class   Consumer  United States        Henderson    Kentucky   \n",
            "1    Second Class   Consumer  United States        Henderson    Kentucky   \n",
            "2    Second Class  Corporate  United States      Los Angeles  California   \n",
            "3  Standard Class   Consumer  United States  Fort Lauderdale     Florida   \n",
            "4  Standard Class   Consumer  United States  Fort Lauderdale     Florida   \n",
            "\n",
            "   Postal Code Region         Category Sub-Category     Sales  Quantity  \\\n",
            "0        42420  South        Furniture    Bookcases  261.9600         2   \n",
            "1        42420  South        Furniture       Chairs  731.9400         3   \n",
            "2        90036   West  Office Supplies       Labels   14.6200         2   \n",
            "3        33311  South        Furniture       Tables  957.5775         5   \n",
            "4        33311  South  Office Supplies      Storage   22.3680         2   \n",
            "\n",
            "   Discount    Profit  \n",
            "0      0.00   41.9136  \n",
            "1      0.00  219.5820  \n",
            "2      0.00    6.8714  \n",
            "3      0.45 -383.0310  \n",
            "4      0.20    2.5164  \n",
            "(9994, 13)\n",
            "        Postal Code         Sales     Quantity     Discount       Profit\n",
            "count   9994.000000   9994.000000  9994.000000  9994.000000  9994.000000\n",
            "mean   55190.379428    229.858001     3.789574     0.156203    28.656896\n",
            "std    32063.693350    623.245101     2.225110     0.206452   234.260108\n",
            "min     1040.000000      0.444000     1.000000     0.000000 -6599.978000\n",
            "25%    23223.000000     17.280000     2.000000     0.000000     1.728750\n",
            "50%    56430.500000     54.490000     3.000000     0.200000     8.666500\n",
            "75%    90008.000000    209.940000     5.000000     0.200000    29.364000\n",
            "max    99301.000000  22638.480000    14.000000     0.800000  8399.976000\n"
          ]
        },
        {
          "output_type": "execute_result",
          "data": {
            "text/plain": [
              "Ship Mode       0\n",
              "Segment         0\n",
              "Country         0\n",
              "City            0\n",
              "State           0\n",
              "Postal Code     0\n",
              "Region          0\n",
              "Category        0\n",
              "Sub-Category    0\n",
              "Sales           0\n",
              "Quantity        0\n",
              "Discount        0\n",
              "Profit          0\n",
              "dtype: int64"
            ]
          },
          "metadata": {},
          "execution_count": 19
        }
      ]
    },
    {
      "cell_type": "code",
      "source": [
        "#cleaning the data\n",
        "Superstore.drop('Country', inplace=True, axis=1)\n",
        "print(Superstore)"
      ],
      "metadata": {
        "colab": {
          "base_uri": "https://localhost:8080/"
        },
        "id": "hdq0c1j55F3V",
        "outputId": "5602a0e6-918d-40d7-b6fc-34e30a538d8f"
      },
      "execution_count": 20,
      "outputs": [
        {
          "output_type": "stream",
          "name": "stdout",
          "text": [
            "           Ship Mode    Segment             City       State  Postal Code  \\\n",
            "0       Second Class   Consumer        Henderson    Kentucky        42420   \n",
            "1       Second Class   Consumer        Henderson    Kentucky        42420   \n",
            "2       Second Class  Corporate      Los Angeles  California        90036   \n",
            "3     Standard Class   Consumer  Fort Lauderdale     Florida        33311   \n",
            "4     Standard Class   Consumer  Fort Lauderdale     Florida        33311   \n",
            "...              ...        ...              ...         ...          ...   \n",
            "9989    Second Class   Consumer            Miami     Florida        33180   \n",
            "9990  Standard Class   Consumer       Costa Mesa  California        92627   \n",
            "9991  Standard Class   Consumer       Costa Mesa  California        92627   \n",
            "9992  Standard Class   Consumer       Costa Mesa  California        92627   \n",
            "9993    Second Class   Consumer      Westminster  California        92683   \n",
            "\n",
            "     Region         Category Sub-Category     Sales  Quantity  Discount  \\\n",
            "0     South        Furniture    Bookcases  261.9600         2      0.00   \n",
            "1     South        Furniture       Chairs  731.9400         3      0.00   \n",
            "2      West  Office Supplies       Labels   14.6200         2      0.00   \n",
            "3     South        Furniture       Tables  957.5775         5      0.45   \n",
            "4     South  Office Supplies      Storage   22.3680         2      0.20   \n",
            "...     ...              ...          ...       ...       ...       ...   \n",
            "9989  South        Furniture  Furnishings   25.2480         3      0.20   \n",
            "9990   West        Furniture  Furnishings   91.9600         2      0.00   \n",
            "9991   West       Technology       Phones  258.5760         2      0.20   \n",
            "9992   West  Office Supplies        Paper   29.6000         4      0.00   \n",
            "9993   West  Office Supplies   Appliances  243.1600         2      0.00   \n",
            "\n",
            "        Profit  \n",
            "0      41.9136  \n",
            "1     219.5820  \n",
            "2       6.8714  \n",
            "3    -383.0310  \n",
            "4       2.5164  \n",
            "...        ...  \n",
            "9989    4.1028  \n",
            "9990   15.6332  \n",
            "9991   19.3932  \n",
            "9992   13.3200  \n",
            "9993   72.9480  \n",
            "\n",
            "[9994 rows x 12 columns]\n"
          ]
        }
      ]
    },
    {
      "cell_type": "markdown",
      "source": [
        "Quantity of products sold "
      ],
      "metadata": {
        "id": "z-YWSP5dJ8j7"
      }
    },
    {
      "cell_type": "code",
      "source": [
        "Products_sold= Superstore.groupby('Sub-Category').agg({'Quantity': 'sum'}).sort_values(by='Quantity',ascending=False)\n",
        "print(Superstore.groupby('Category').agg({'Quantity': 'sum'}).sort_values(by='Quantity',ascending=False))\n",
        "print(Superstore.groupby('Sub-Category').agg({'Quantity': 'sum'}).sort_values(by='Quantity',ascending=False))"
      ],
      "metadata": {
        "colab": {
          "base_uri": "https://localhost:8080/"
        },
        "id": "rxvMPNcrJ8DH",
        "outputId": "45942c06-82e6-46e2-891a-f0a0377504fc"
      },
      "execution_count": 28,
      "outputs": [
        {
          "output_type": "stream",
          "name": "stdout",
          "text": [
            "                 Quantity\n",
            "Category                 \n",
            "Office Supplies     22906\n",
            "Furniture            8028\n",
            "Technology           6939\n",
            "              Quantity\n",
            "Sub-Category          \n",
            "Binders           5974\n",
            "Paper             5178\n",
            "Furnishings       3563\n",
            "Phones            3289\n",
            "Storage           3158\n",
            "Art               3000\n",
            "Accessories       2976\n",
            "Chairs            2356\n",
            "Appliances        1729\n",
            "Labels            1400\n",
            "Tables            1241\n",
            "Fasteners          914\n",
            "Envelopes          906\n",
            "Bookcases          868\n",
            "Supplies           647\n",
            "Machines           440\n",
            "Copiers            234\n"
          ]
        }
      ]
    },
    {
      "cell_type": "code",
      "source": [
        "Products_sold.plot(kind=\"bar\")\n",
        "plt.show()"
      ],
      "metadata": {
        "colab": {
          "base_uri": "https://localhost:8080/",
          "height": 328
        },
        "id": "ds4ddIfoWuYx",
        "outputId": "390f2c3c-47ac-4f85-f738-cf8a7d5da1d4"
      },
      "execution_count": 29,
      "outputs": [
        {
          "output_type": "display_data",
          "data": {
            "text/plain": [
              "<Figure size 432x288 with 1 Axes>"
            ],
            "image/png": "[encoded data removed]"
          },
          "metadata": {
            "needs_background": "light"
          }
        }
      ]
    }
  ]
}