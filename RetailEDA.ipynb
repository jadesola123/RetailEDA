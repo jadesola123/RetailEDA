{
  "nbformat": 4,
  "nbformat_minor": 0,
  "metadata": {
    "colab": {
      "name": "RetailEDA.ipynb",
      "provenance": [],
      "authorship_tag": "ABX9TyOVuA8lnKnpHACKJ29EERCB",
      "include_colab_link": true
    },
    "kernelspec": {
      "name": "python3",
      "display_name": "Python 3"
    },
    "language_info": {
      "name": "python"
    }
  },
  "cells": [
    {
      "cell_type": "markdown",
      "metadata": {
        "id": "view-in-github",
        "colab_type": "text"
      },
      "source": [
        "<a href=\"https://colab.research.google.com/github/jadesola123/RetailEDA/blob/main/RetailEDA.ipynb\" target=\"_parent\"><img src=\"https://colab.research.google.com/assets/colab-badge.svg\" alt=\"Open In Colab\"/></a>"
      ]
    },
    {
      "cell_type": "code",
      "execution_count": 1,
      "metadata": {
        "id": "YyyV153sygzO"
      },
      "outputs": [],
      "source": [
        "#importing libraries\n",
        "import numpy as np \n",
        "import pandas as pd\n",
        "import matplotlib.pyplot as plt"
      ]
    },
    {
      "cell_type": "code",
      "source": [
        "#reading the csv file\n",
        "url=\"https://raw.githubusercontent.com/jadesola123/RetailEDA/main/SampleSuperstore%20(1).csv\"\n",
        "Superstore= pd.read_csv(url)"
      ],
      "metadata": {
        "id": "HNZf-Yxn2ZQr"
      },
      "execution_count": 2,
      "outputs": []
    }
  ]
}